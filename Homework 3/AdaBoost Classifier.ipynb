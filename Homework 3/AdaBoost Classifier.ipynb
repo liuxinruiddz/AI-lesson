{
 "cells": [
  {
   "cell_type": "code",
   "execution_count": 5,
   "id": "1e9ed422",
   "metadata": {},
   "outputs": [],
   "source": [
    "import numpy as np\n",
    "import pandas as pd\n",
    "import matplotlib.pyplot as plt\n",
    "from sklearn import datasets\n",
    "from sklearn.model_selection import train_test_split\n",
    "from sklearn.metrics import zero_one_loss\n",
    "from sklearn.metrics import mean_squared_error\n",
    "from sklearn.metrics import accuracy_score, precision_score, recall_score, f1_score\n",
    "from sklearn.metrics import roc_curve, auc, roc_auc_score\n",
    "#from sklearn.ensemble import GradientBoostingClassifier\n",
    "from sklearn.tree import DecisionTreeClassifier"
   ]
  },
  {
   "cell_type": "code",
   "execution_count": 6,
   "id": "9870ffeb",
   "metadata": {},
   "outputs": [
    {
     "name": "stdout",
     "output_type": "stream",
     "text": [
      "The shape of raw data:  (10000, 785)\n",
      "The shape of Training data:  (800, 784) (800,)\n",
      "The shape of Test data:  (200, 784) (200,)\n",
      "X_train [[0 0 0 ... 0 0 0]\n",
      " [0 0 0 ... 0 0 0]]\n"
     ]
    }
   ],
   "source": [
    "# import dataset and split into the Training and Test set\n",
    "df = pd.read_csv('mnist_binary.csv')\n",
    "print('The shape of raw data: ', df.shape)\n",
    "df = df[:1000]\n",
    "X = df.iloc[:, 1:].values\n",
    "y = df.iloc[:, 0].values\n",
    "X_train, X_test, y_train, y_test = train_test_split(X, y, test_size = 0.2, random_state = 0)\n",
    "print('The shape of Training data: ',X_train.shape, y_train.shape)\n",
    "print('The shape of Test data: ',X_test.shape, y_test.shape)\n",
    "print('X_train', X_train[:2])"
   ]
  },
  {
   "cell_type": "code",
   "execution_count": 7,
   "id": "f658949f",
   "metadata": {},
   "outputs": [],
   "source": [
    "class AdaBoost:\n",
    "    def __init__(self, T=50):\n",
    "        self.T = T\n",
    "        self.weak_classifiers = []\n",
    "\n",
    "    def train(self, X, Y):\n",
    "        # m is the number of samples, n is number of features\n",
    "        m, n = X.shape\n",
    "        # initialize weights\n",
    "        w = np.ones(m) / m\n",
    "\n",
    "        for t in range(self.T):\n",
    "            # initialize a dictionary as weak classifier selector\n",
    "            best_weak_classifier = {'feature': 0, 'threshold': 0, 'min_error': np.inf,\n",
    "                                    'is_greater_than_threshold': 1, 'alpha': 0}\n",
    "\n",
    "            # search for the best weak classifier in all features\n",
    "            for j in range(n):\n",
    "                x_samples = X[:, j]\n",
    "\n",
    "                # sort the samples from lowest value to highest\n",
    "                thresholds = np.sort(x_samples)\n",
    "\n",
    "                # search for the best threshold that can minimize the total error\n",
    "                for threshold in thresholds:\n",
    "\n",
    "                    # we predict the sample value that is greater than threshold as positive prediction\n",
    "                    is_greater_than_threshold = 1\n",
    "                    predictions = np.ones(m)\n",
    "                    predictions[x_samples < threshold] = -1\n",
    "\n",
    "                    # sum of weights of misclassified samples to get the total error\n",
    "                    misclassified_weights = w[Y != predictions]\n",
    "                    total_error = sum(misclassified_weights)\n",
    "\n",
    "                    # Since we are minimizing error, if the error rate is higher than 0.5, we flip the sign\n",
    "                    # (from \"greater than threshold\" to the \"less than threshold\") to get the minimum error rate\n",
    "                    if total_error > 0.5:\n",
    "                        total_error = 1 - total_error\n",
    "\n",
    "                        # reset is_greater_than_threshold = -1 means now we mark the sample value that\n",
    "                        # less than threshold as positive prediction in this weak classifier\n",
    "                        is_greater_than_threshold = -1\n",
    "\n",
    "                    if total_error < best_weak_classifier['min_error']:\n",
    "\n",
    "                        # only keep the best weak classifier's details\n",
    "                        best_weak_classifier['feature'] = j\n",
    "                        best_weak_classifier['threshold'] = threshold\n",
    "                        best_weak_classifier['min_error'] = total_error\n",
    "                        best_weak_classifier['is_greater_than_threshold'] = is_greater_than_threshold\n",
    "\n",
    "            # calculate the alpha, add 1e-10 on denominator to avoid dividing by zero\n",
    "            best_weak_classifier['alpha'] = 1 / 2 * np.log(\n",
    "                (1.0 - best_weak_classifier['min_error']) / max(best_weak_classifier['min_error'], 1e-10))\n",
    "\n",
    "            # store the best decision stump into weak classifier list\n",
    "            self.weak_classifiers.append(best_weak_classifier)\n",
    "\n",
    "            # get predictions on a single weak classifier\n",
    "            weak_classifier_predictions = self.weak_classify(X[:, best_weak_classifier['feature']],\n",
    "                                                             best_weak_classifier['threshold'],\n",
    "                                                             best_weak_classifier['is_greater_than_threshold'])\n",
    "\n",
    "            # update the weights\n",
    "            w = w * np.exp((-1) * float(best_weak_classifier['alpha']) * Y * weak_classifier_predictions)\n",
    "            # get the normalization factor Z\n",
    "            z = np.sum(w)\n",
    "            w = w / z\n",
    "            print(\"alpha\", t + 1, ': ', best_weak_classifier['alpha'])\n",
    "\n",
    "    @staticmethod\n",
    "    def weak_classify(X_column, threshold, is_greater_than_threshold):\n",
    "        # predict based on single weak classifier\n",
    "        predictions = np.ones(X_column.shape[0])\n",
    "        if is_greater_than_threshold == 1:\n",
    "            predictions[X_column < threshold] = -1\n",
    "        else:\n",
    "            predictions[X_column > threshold] = -1\n",
    "\n",
    "        return predictions\n",
    "\n",
    "    def predict(self, X):\n",
    "        prediction = [wcl['alpha'] * self.weak_classify(\n",
    "            X[:, wcl['feature']], wcl['threshold'], wcl['is_greater_than_threshold']) for wcl in self.weak_classifiers]\n",
    "        Y = np.sum(prediction, axis=0)\n",
    "        Y = np.sign(Y)\n",
    "        return Y"
   ]
  },
  {
   "cell_type": "code",
   "execution_count": 8,
   "id": "9ce7fdc3",
   "metadata": {},
   "outputs": [
    {
     "name": "stdout",
     "output_type": "stream",
     "text": [
      "==========Train==========\n",
      "alpha 1 :  11.51292546497022\n",
      "alpha 2 :  11.512925464970229\n",
      "alpha 3 :  11.512925464970234\n",
      "alpha 4 :  11.512925464970225\n",
      "alpha 5 :  11.512925464970229\n",
      "alpha 6 :  11.512925464970229\n",
      "alpha 7 :  11.512925464970229\n",
      "alpha 8 :  11.512925464970229\n",
      "alpha 9 :  11.512925464970229\n",
      "alpha 10 :  11.512925464970229\n"
     ]
    }
   ],
   "source": [
    "print('==========Train==========')\n",
    "classifier = AdaBoost(T=10)\n",
    "classifier.train(X_train, y_train)\n",
    "y_pred = classifier.predict(X_test)"
   ]
  },
  {
   "cell_type": "code",
   "execution_count": 9,
   "id": "3868e7ab",
   "metadata": {},
   "outputs": [],
   "source": [
    "# Test\n",
    "y_pred = classifier.predict(X_test)"
   ]
  },
  {
   "cell_type": "code",
   "execution_count": 10,
   "id": "22997ee5",
   "metadata": {},
   "outputs": [
    {
     "name": "stdout",
     "output_type": "stream",
     "text": [
      "MSE =  0.14\n",
      "RMSE =  0.37416573867739417\n",
      "R2_test =  -0.16279069767441867\n",
      "accuracy =  0.86\n",
      "precision =  0.86\n",
      "recall =  1.0\n",
      "F1 =  0.924731182795699\n"
     ]
    }
   ],
   "source": [
    "# Other Evaluation Metrics\n",
    "mse = np.sum(np.power(y_pred - y_test,2))/(len(X_test))\n",
    "rmse = np.sqrt(mse)\n",
    "R2_test = 1 - np.sum(np.power(y_pred - y_test,2))/np.sum(np.power(np.mean(y_test) - y_test,2))\n",
    "print('MSE = ', mse)\n",
    "print('RMSE = ', rmse)\n",
    "print('R2_test = ', R2_test)\n",
    "print('accuracy = ', accuracy_score(y_test, y_pred))\n",
    "print('precision = ', precision_score(y_test, y_pred))\n",
    "print('recall = ', recall_score(y_test, y_pred))\n",
    "print('F1 = ', f1_score(y_test, y_pred))"
   ]
  },
  {
   "cell_type": "code",
   "execution_count": 11,
   "id": "a5b54ca9",
   "metadata": {},
   "outputs": [
    {
     "name": "stdout",
     "output_type": "stream",
     "text": [
      "fpr:[0. 1.]\n",
      "tpr:[0. 1.]\n",
      "thresholds:[2. 1.]\n",
      "AUC面积值： 0.5\n",
      "AUC面积得分： 0.5\n"
     ]
    },
    {
     "data": {
      "text/plain": [
       "<matplotlib.legend.Legend at 0x7faba629e250>"
      ]
     },
     "execution_count": 11,
     "metadata": {},
     "output_type": "execute_result"
    },
    {
     "name": "stderr",
     "output_type": "stream",
     "text": [
      "/home/ubuntu/miniconda3/lib/python3.8/site-packages/IPython/core/pylabtools.py:151: UserWarning: Glyph 26354 (\\N{CJK UNIFIED IDEOGRAPH-66F2}) missing from current font.\n",
      "  fig.canvas.print_figure(bytes_io, **kw)\n",
      "/home/ubuntu/miniconda3/lib/python3.8/site-packages/IPython/core/pylabtools.py:151: UserWarning: Glyph 32447 (\\N{CJK UNIFIED IDEOGRAPH-7EBF}) missing from current font.\n",
      "  fig.canvas.print_figure(bytes_io, **kw)\n",
      "/home/ubuntu/miniconda3/lib/python3.8/site-packages/IPython/core/pylabtools.py:151: UserWarning: Glyph 20540 (\\N{CJK UNIFIED IDEOGRAPH-503C}) missing from current font.\n",
      "  fig.canvas.print_figure(bytes_io, **kw)\n",
      "/home/ubuntu/miniconda3/lib/python3.8/site-packages/IPython/core/pylabtools.py:151: UserWarning: Glyph 20026 (\\N{CJK UNIFIED IDEOGRAPH-4E3A}) missing from current font.\n",
      "  fig.canvas.print_figure(bytes_io, **kw)\n",
      "/home/ubuntu/miniconda3/lib/python3.8/site-packages/IPython/core/pylabtools.py:151: UserWarning: Glyph 38543 (\\N{CJK UNIFIED IDEOGRAPH-968F}) missing from current font.\n",
      "  fig.canvas.print_figure(bytes_io, **kw)\n",
      "/home/ubuntu/miniconda3/lib/python3.8/site-packages/IPython/core/pylabtools.py:151: UserWarning: Glyph 26426 (\\N{CJK UNIFIED IDEOGRAPH-673A}) missing from current font.\n",
      "  fig.canvas.print_figure(bytes_io, **kw)\n",
      "/home/ubuntu/miniconda3/lib/python3.8/site-packages/IPython/core/pylabtools.py:151: UserWarning: Glyph 29468 (\\N{CJK UNIFIED IDEOGRAPH-731C}) missing from current font.\n",
      "  fig.canvas.print_figure(bytes_io, **kw)\n",
      "/home/ubuntu/miniconda3/lib/python3.8/site-packages/IPython/core/pylabtools.py:151: UserWarning: Glyph 24819 (\\N{CJK UNIFIED IDEOGRAPH-60F3}) missing from current font.\n",
      "  fig.canvas.print_figure(bytes_io, **kw)\n",
      "/home/ubuntu/miniconda3/lib/python3.8/site-packages/IPython/core/pylabtools.py:151: UserWarning: Glyph 23436 (\\N{CJK UNIFIED IDEOGRAPH-5B8C}) missing from current font.\n",
      "  fig.canvas.print_figure(bytes_io, **kw)\n",
      "/home/ubuntu/miniconda3/lib/python3.8/site-packages/IPython/core/pylabtools.py:151: UserWarning: Glyph 32654 (\\N{CJK UNIFIED IDEOGRAPH-7F8E}) missing from current font.\n",
      "  fig.canvas.print_figure(bytes_io, **kw)\n",
      "/home/ubuntu/miniconda3/lib/python3.8/site-packages/IPython/core/pylabtools.py:151: UserWarning: Glyph 39044 (\\N{CJK UNIFIED IDEOGRAPH-9884}) missing from current font.\n",
      "  fig.canvas.print_figure(bytes_io, **kw)\n",
      "/home/ubuntu/miniconda3/lib/python3.8/site-packages/IPython/core/pylabtools.py:151: UserWarning: Glyph 27979 (\\N{CJK UNIFIED IDEOGRAPH-6D4B}) missing from current font.\n",
      "  fig.canvas.print_figure(bytes_io, **kw)\n"
     ]
    },
    {
     "data": {
      "image/png": "[encoded data removed]",
      "text/plain": [
       "<Figure size 720x432 with 1 Axes>"
      ]
     },
     "metadata": {
      "needs_background": "light"
     },
     "output_type": "display_data"
    }
   ],
   "source": [
    "# ROC AUC\n",
    "#返回ROC曲线相关值。返回FPR,TPR与阈值，当分值达到阈值时，将样本判定为正类，否则判定为负类。\n",
    "#y_true：二分类的标签值（真实值）\n",
    "#y_score：每个标签（数据）的分值或概率值。当该值达到阈值时，判定为正例，否则判定为负例。\n",
    "#在实际模型评估时，该值往往通过决策函数（decision_function）或概率函数（predict_proba）获得\n",
    "#pos_label：指定正例的标签值\n",
    "fpr, tpr, thresholds = roc_curve(y_test, y_pred, pos_label=1)\n",
    "print(f'fpr:{fpr}')\n",
    "print(f'tpr:{tpr}')\n",
    "print(f'thresholds:{thresholds}')\n",
    "#auc与roc_auc_score函数都可以返回auc面积值，但是注意，两个函数的参数是不同的\n",
    "print('AUC面积值：', auc(fpr, tpr))\n",
    "print('AUC面积得分：', roc_auc_score(y_true=y_test, y_score=y_pred))\n",
    "\n",
    "plt.figure(figsize=(10,6))\n",
    "plt.plot(fpr, tpr, ls='-', marker='o', label='ROC曲线')\n",
    "plt.plot([0,1], [0,1], lw=2, ls='--', label='随机猜想')\n",
    "plt.plot([0,0,1], [0,1,1], lw=2, ls='--', label='完美预测')\n",
    "plt.xlim(-0.01, 1.02)\n",
    "plt.ylim(-0.01, 1.02)\n",
    "plt.xticks(np.arange(0, 1.1, 0.1))\n",
    "plt.yticks(np.arange(0, 1.1, 0.1))\n",
    "plt.xlabel('False Positive Rate(FPR)')\n",
    "plt.ylabel('True Positive Rate(TPR)')\n",
    "plt.title(f'ROC曲线-AUC值为{auc(fpr, tpr):.2f}')\n",
    "plt.grid()\n",
    "plt.legend()"
   ]
  },
  {
   "cell_type": "code",
   "execution_count": null,
   "id": "0dca52b5",
   "metadata": {},
   "outputs": [],
   "source": []
  },
  {
   "cell_type": "code",
   "execution_count": null,
   "id": "61da1689",
   "metadata": {},
   "outputs": [],
   "source": []
  }
 ],
 "metadata": {
  "kernelspec": {
   "display_name": "Python 3 (ipykernel)",
   "language": "python",
   "name": "python3"
  },
  "language_info": {
   "codemirror_mode": {
    "name": "ipython",
    "version": 3
   },
   "file_extension": ".py",
   "mimetype": "text/x-python",
   "name": "python",
   "nbconvert_exporter": "python",
   "pygments_lexer": "ipython3",
   "version": "3.8.12"
  }
 },
 "nbformat": 4,
 "nbformat_minor": 5
}
